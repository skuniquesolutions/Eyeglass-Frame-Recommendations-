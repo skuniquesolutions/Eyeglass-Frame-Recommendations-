{
 "cells": [
  {
   "cell_type": "code",
   "execution_count": 1,
   "metadata": {},
   "outputs": [],
   "source": [
    "import pandas as pd\n",
    "import urllib.request\n",
    "import csv\n",
    "import requests"
   ]
  },
  {
   "cell_type": "code",
   "execution_count": 2,
   "metadata": {},
   "outputs": [],
   "source": [
    "def read_csv():\n",
    "    with open('ours.csv','r') as file:\n",
    "        reader = csv.reader(file)\n",
    "        \n",
    "        data =[]\n",
    "        N = 0\n",
    "        \n",
    "        for row in reader:\n",
    "            data.append({'name':f\"img{N}\", 'url':row })\n",
    "            N+=1\n",
    "            print(row[0])\n",
    "        \n",
    "    #return data \n",
    "\n",
    "\n",
    "def downloadsaveimg():\n",
    "    data = read_csv()\n",
    "    for x in data:\n",
    "        res = requests.get(x['url'])\n",
    "        name = x['name']\n",
    "        file = open(f\"{name}.jpg\", 'wb')\n",
    "        file.write(res.content)\n",
    "        file.close()\n",
    "\n",
    "#downloadsaveimg()       "
   ]
  },
  {
   "cell_type": "code",
   "execution_count": 3,
   "metadata": {},
   "outputs": [],
   "source": [
    "import os"
   ]
  },
  {
   "cell_type": "code",
   "execution_count": 4,
   "metadata": {},
   "outputs": [],
   "source": [
    "def read_csv():\n",
    "    with open('ours.csv','r') as file:\n",
    "        reader = csv.reader(file)\n",
    "        \n",
    "        line = 0\n",
    "        data = []\n",
    "        for row in reader:\n",
    "            if line == 0:\n",
    "                pass\n",
    "            else:\n",
    "                data.append({'name':row[0], 'url':row[1]})\n",
    "                #print(row[0])\n",
    "            line+=1 \n",
    "    return data   \n",
    " \n",
    "def downloadsaveimg():\n",
    "    data = read_csv()\n",
    "    os.chdir('picture')\n",
    "    for x in data:\n",
    "        res = requests.get(x['url'])\n",
    "        name = x['name']\n",
    "        file = open(f\"{name}.jpg\", 'wb')\n",
    "        file.write(res.content)\n",
    "        file.close()\n",
    "        \n",
    "downloadsaveimg()        "
   ]
  },
  {
   "cell_type": "code",
   "execution_count": null,
   "metadata": {},
   "outputs": [],
   "source": []
  }
 ],
 "metadata": {
  "kernelspec": {
   "display_name": "Python 3",
   "language": "python",
   "name": "python3"
  },
  "language_info": {
   "codemirror_mode": {
    "name": "ipython",
    "version": 3
   },
   "file_extension": ".py",
   "mimetype": "text/x-python",
   "name": "python",
   "nbconvert_exporter": "python",
   "pygments_lexer": "ipython3",
   "version": "3.7.6"
  }
 },
 "nbformat": 4,
 "nbformat_minor": 4
}
